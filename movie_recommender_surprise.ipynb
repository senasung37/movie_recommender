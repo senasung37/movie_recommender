{
  "nbformat": 4,
  "nbformat_minor": 0,
  "metadata": {
    "colab": {
      "name": "movie_recommender_surprise.ipynb",
      "provenance": [],
      "collapsed_sections": [],
      "authorship_tag": "ABX9TyM/EBD6HNDDLJDIaNu+AsbJ",
      "include_colab_link": true
    },
    "kernelspec": {
      "name": "python3",
      "display_name": "Python 3"
    },
    "language_info": {
      "name": "python"
    },
    "accelerator": "GPU",
    "gpuClass": "standard"
  },
  "cells": [
    {
      "cell_type": "markdown",
      "metadata": {
        "id": "view-in-github",
        "colab_type": "text"
      },
      "source": [
        "<a href=\"https://colab.research.google.com/github/senasung37/recommendation/blob/main/movie_recommender_surprise.ipynb\" target=\"_parent\"><img src=\"https://colab.research.google.com/assets/colab-badge.svg\" alt=\"Open In Colab\"/></a>"
      ]
    },
    {
      "cell_type": "markdown",
      "source": [
        "코드출처: 이수안 컴퓨터 연구소 <br>\n",
        "- 링크: https://www.youtube.com/watch?v=6TP51jvjLsE&t=698s"
      ],
      "metadata": {
        "id": "asV4h2g19-AO"
      }
    },
    {
      "cell_type": "markdown",
      "source": [
        "#라이브러리 & 데이터 불러오기"
      ],
      "metadata": {
        "id": "t9lrpot8yOVu"
      }
    },
    {
      "cell_type": "markdown",
      "source": [
        "surprise: 추천 시스템 개발을 위한 라이브러리 "
      ],
      "metadata": {
        "id": "RadJ4rpJdrUt"
      }
    },
    {
      "cell_type": "code",
      "execution_count": 1,
      "metadata": {
        "colab": {
          "base_uri": "https://localhost:8080/"
        },
        "id": "iJ9ndInIoOFB",
        "outputId": "1c879793-9d29-4df6-a50a-4539b275a7a8"
      },
      "outputs": [
        {
          "output_type": "stream",
          "name": "stdout",
          "text": [
            "Looking in indexes: https://pypi.org/simple, https://us-python.pkg.dev/colab-wheels/public/simple/\n",
            "Collecting scikit-surprise\n",
            "  Downloading scikit-surprise-1.1.1.tar.gz (11.8 MB)\n",
            "\u001b[K     |████████████████████████████████| 11.8 MB 4.3 MB/s \n",
            "\u001b[?25hRequirement already satisfied: joblib>=0.11 in /usr/local/lib/python3.7/dist-packages (from scikit-surprise) (1.1.0)\n",
            "Requirement already satisfied: numpy>=1.11.2 in /usr/local/lib/python3.7/dist-packages (from scikit-surprise) (1.21.6)\n",
            "Requirement already satisfied: scipy>=1.0.0 in /usr/local/lib/python3.7/dist-packages (from scikit-surprise) (1.7.3)\n",
            "Requirement already satisfied: six>=1.10.0 in /usr/local/lib/python3.7/dist-packages (from scikit-surprise) (1.15.0)\n",
            "Building wheels for collected packages: scikit-surprise\n",
            "  Building wheel for scikit-surprise (setup.py) ... \u001b[?25l\u001b[?25hdone\n",
            "  Created wheel for scikit-surprise: filename=scikit_surprise-1.1.1-cp37-cp37m-linux_x86_64.whl size=1633965 sha256=b52898b12728bbbcc4d28b14a3f7e9ec2820858c09ded36d15d9ce7b014bb1d3\n",
            "  Stored in directory: /root/.cache/pip/wheels/76/44/74/b498c42be47b2406bd27994e16c5188e337c657025ab400c1c\n",
            "Successfully built scikit-surprise\n",
            "Installing collected packages: scikit-surprise\n",
            "Successfully installed scikit-surprise-1.1.1\n"
          ]
        }
      ],
      "source": [
        "#surprise 라이브러리 설치\n",
        "!pip install scikit-surprise"
      ]
    },
    {
      "cell_type": "code",
      "source": [
        "#라이브러리 불러오기\n",
        "from surprise import SVD\n",
        "from surprise import Dataset\n",
        "from surprise.model_selection import cross_validate"
      ],
      "metadata": {
        "id": "kEBpqF7ZocMw"
      },
      "execution_count": 2,
      "outputs": []
    },
    {
      "cell_type": "code",
      "source": [
        "#데이터 불러오기 (ml-100k: 데이터 종류)\n",
        "#피쳐: 사용자id, 영화id, 평점, 시간)\n",
        "data = Dataset.load_builtin('ml-100k', prompt=False)\n",
        "data.raw_ratings[:10]"
      ],
      "metadata": {
        "colab": {
          "base_uri": "https://localhost:8080/"
        },
        "id": "2Aznu-Obon5N",
        "outputId": "1ef0ddb4-b082-424a-85f0-1fb654bb70ed"
      },
      "execution_count": 3,
      "outputs": [
        {
          "output_type": "stream",
          "name": "stdout",
          "text": [
            "Trying to download dataset from http://files.grouplens.org/datasets/movielens/ml-100k.zip...\n",
            "Done! Dataset ml-100k has been saved to /root/.surprise_data/ml-100k\n"
          ]
        },
        {
          "output_type": "execute_result",
          "data": {
            "text/plain": [
              "[('196', '242', 3.0, '881250949'),\n",
              " ('186', '302', 3.0, '891717742'),\n",
              " ('22', '377', 1.0, '878887116'),\n",
              " ('244', '51', 2.0, '880606923'),\n",
              " ('166', '346', 1.0, '886397596'),\n",
              " ('298', '474', 4.0, '884182806'),\n",
              " ('115', '265', 2.0, '881171488'),\n",
              " ('253', '465', 5.0, '891628467'),\n",
              " ('305', '451', 3.0, '886324817'),\n",
              " ('6', '86', 3.0, '883603013')]"
            ]
          },
          "metadata": {},
          "execution_count": 3
        }
      ]
    },
    {
      "cell_type": "code",
      "source": [
        "#모델 설정(SVD - matrix factorization 알고리즘, 비어있는 값들 예측)\n",
        "model = SVD()"
      ],
      "metadata": {
        "id": "R1oFNyD5ox1u"
      },
      "execution_count": 4,
      "outputs": []
    },
    {
      "cell_type": "code",
      "source": [
        "#모델 검증\n",
        "cross_validate(model, data, measures=['rmse', 'mae'], cv=5, verbose=True)"
      ],
      "metadata": {
        "colab": {
          "base_uri": "https://localhost:8080/"
        },
        "id": "hlTNZt9jpWyk",
        "outputId": "cb3ff61b-e3f5-481e-99e5-dba5218aba99"
      },
      "execution_count": 5,
      "outputs": [
        {
          "output_type": "stream",
          "name": "stdout",
          "text": [
            "Evaluating RMSE, MAE of algorithm SVD on 5 split(s).\n",
            "\n",
            "                  Fold 1  Fold 2  Fold 3  Fold 4  Fold 5  Mean    Std     \n",
            "RMSE (testset)    0.9346  0.9343  0.9381  0.9454  0.9251  0.9355  0.0066  \n",
            "MAE (testset)     0.7367  0.7366  0.7398  0.7450  0.7322  0.7381  0.0042  \n",
            "Fit time          6.88    4.88    4.83    4.89    4.89    5.27    0.81    \n",
            "Test time         0.29    0.15    0.19    0.20    0.14    0.20    0.05    \n"
          ]
        },
        {
          "output_type": "execute_result",
          "data": {
            "text/plain": [
              "{'fit_time': (6.884903192520142,\n",
              "  4.876851558685303,\n",
              "  4.826300859451294,\n",
              "  4.894756078720093,\n",
              "  4.886202096939087),\n",
              " 'test_mae': array([0.7366974 , 0.73663943, 0.73981255, 0.74499876, 0.73215277]),\n",
              " 'test_rmse': array([0.93463039, 0.93432728, 0.93811037, 0.9453884 , 0.9251129 ]),\n",
              " 'test_time': (0.2941012382507324,\n",
              "  0.1516094207763672,\n",
              "  0.19150424003601074,\n",
              "  0.1983647346496582,\n",
              "  0.1437373161315918)}"
            ]
          },
          "metadata": {},
          "execution_count": 5
        }
      ]
    },
    {
      "cell_type": "markdown",
      "source": [
        "#컨텐츠 기반 필터링\n",
        "사용자가 좋아하는 상품과 유사한 상품 추천(예시: 나와 비슷한 취향의 사용자가 시청한 영화 추천)\n",
        "- 장점: 많은 수의 사용자 대상으로 쉽게 확장, 관심 없던 상품 추천 가능\n",
        "- 단점: 입력 특성을 직접 설계해야 돼서 도메인 지식 필요, 사용자 기존 관심사항 기반으로만 추천 가능"
      ],
      "metadata": {
        "id": "AqRzfiZXpzjG"
      }
    },
    {
      "cell_type": "code",
      "source": [
        "import numpy as np\n",
        "from surprise import Dataset"
      ],
      "metadata": {
        "id": "STnfDLXepetN"
      },
      "execution_count": 6,
      "outputs": []
    },
    {
      "cell_type": "code",
      "source": [
        "#데이터 array로 만들기\n",
        "raw_data = np.array(data.raw_ratings, dtype=int)\n",
        "raw_data"
      ],
      "metadata": {
        "colab": {
          "base_uri": "https://localhost:8080/"
        },
        "id": "1EqoCAt-qL9Z",
        "outputId": "09fce56d-c6f9-4537-e9d1-32f993de71f2"
      },
      "execution_count": 16,
      "outputs": [
        {
          "output_type": "execute_result",
          "data": {
            "text/plain": [
              "array([[      196,       242,         3, 881250949],\n",
              "       [      186,       302,         3, 891717742],\n",
              "       [       22,       377,         1, 878887116],\n",
              "       ...,\n",
              "       [      276,      1090,         1, 874795795],\n",
              "       [       13,       225,         2, 882399156],\n",
              "       [       12,       203,         3, 879959583]])"
            ]
          },
          "metadata": {},
          "execution_count": 16
        }
      ]
    },
    {
      "cell_type": "code",
      "source": [
        "#userid, movieid가 0부터 시작하도록 변경\n",
        "raw_data[:,0] -= 1\n",
        "raw_data[:,1] -= 1\n",
        "raw_data\n"
      ],
      "metadata": {
        "colab": {
          "base_uri": "https://localhost:8080/"
        },
        "id": "ldd9EMXqqbRc",
        "outputId": "73c72ce0-7395-40c8-d4bc-acd55aad91c7"
      },
      "execution_count": 19,
      "outputs": [
        {
          "output_type": "execute_result",
          "data": {
            "text/plain": [
              "array([[      195,       241,         3, 881250949],\n",
              "       [      185,       301,         3, 891717742],\n",
              "       [       21,       376,         1, 878887116],\n",
              "       ...,\n",
              "       [      275,      1089,         1, 874795795],\n",
              "       [       12,       224,         2, 882399156],\n",
              "       [       11,       202,         3, 879959583]])"
            ]
          },
          "metadata": {},
          "execution_count": 19
        }
      ]
    },
    {
      "cell_type": "code",
      "source": [
        "#유저, 영화 최대값으로 shape 만들기\n",
        "n_users = np.max(raw_data[:, 0])\n",
        "n_movies = np.max(raw_data[:, 1])\n",
        "shape = (n_users + 1, n_movies + 1)\n",
        "shape"
      ],
      "metadata": {
        "colab": {
          "base_uri": "https://localhost:8080/"
        },
        "id": "ExPxrn4XqoMR",
        "outputId": "d99e2104-7dad-4e9b-8f44-b6d6374b1bf4"
      },
      "execution_count": 9,
      "outputs": [
        {
          "output_type": "execute_result",
          "data": {
            "text/plain": [
              "(943, 1682)"
            ]
          },
          "metadata": {},
          "execution_count": 9
        }
      ]
    },
    {
      "cell_type": "code",
      "source": [
        "#user x movie 인접행렬 만들기(데이터가 있으면 1, 없으면 0)\n",
        "adj_matrix = np.ndarray(shape, dtype=int)\n",
        "for user_id, movie_id, rating, time in raw_data:\n",
        "  adj_matrix[user_id, movie_id] = 1.\n",
        "adj_matrix"
      ],
      "metadata": {
        "id": "Q9RZMn9VLxKi",
        "colab": {
          "base_uri": "https://localhost:8080/"
        },
        "outputId": "3a6102f7-2578-49e4-b07c-e18311e0cd18"
      },
      "execution_count": 48,
      "outputs": [
        {
          "output_type": "execute_result",
          "data": {
            "text/plain": [
              "array([[1, 1, 1, ..., 0, 0, 0],\n",
              "       [1, 0, 0, ..., 0, 0, 0],\n",
              "       [0, 0, 0, ..., 0, 0, 0],\n",
              "       ...,\n",
              "       [1, 0, 0, ..., 0, 0, 0],\n",
              "       [0, 0, 0, ..., 0, 0, 0],\n",
              "       [0, 1, 0, ..., 0, 0, 0]])"
            ]
          },
          "metadata": {},
          "execution_count": 48
        }
      ]
    },
    {
      "cell_type": "code",
      "source": [
        "#유사도 평가 알고리즘 - 입력한 id와 가장 유사한 similarity 및 ID 도출\n",
        "my_id = int(input())\n",
        "my_vector = adj_matrix[my_id]\n",
        "best_match, best_match_id, best_match_vector = -1, -1, []\n",
        "\n",
        "for user_id, user_vector in enumerate(adj_matrix):\n",
        "  if my_id != user_id:\n",
        "    similarity = np.dot(my_vector, user_vector)\n",
        "    if similarity > best_match:\n",
        "      best_match = similarity\n",
        "      best_match_id = user_id\n",
        "      best_match_vector = user_vector\n",
        "print(\"Best Match: {}, Best Match ID: {}\".format(best_match, best_match_id))"
      ],
      "metadata": {
        "id": "uykkl6FEOH1U",
        "colab": {
          "base_uri": "https://localhost:8080/"
        },
        "outputId": "9e1ffc9c-bc86-45b4-8b65-c7f8ccb203ff"
      },
      "execution_count": 50,
      "outputs": [
        {
          "output_type": "stream",
          "name": "stdout",
          "text": [
            "0\n",
            "Best Match: 183, Best Match ID: 275\n"
          ]
        }
      ]
    }
  ]
}