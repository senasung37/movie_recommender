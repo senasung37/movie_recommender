{
  "nbformat": 4,
  "nbformat_minor": 0,
  "metadata": {
    "colab": {
      "name": "movie_recommender_surprise.ipynb",
      "provenance": [],
      "collapsed_sections": [],
      "authorship_tag": "ABX9TyNd5Tcf6MsOFJVcFSvnwZE7",
      "include_colab_link": true
    },
    "kernelspec": {
      "name": "python3",
      "display_name": "Python 3"
    },
    "language_info": {
      "name": "python"
    },
    "accelerator": "GPU",
    "gpuClass": "standard"
  },
  "cells": [
    {
      "cell_type": "markdown",
      "metadata": {
        "id": "view-in-github",
        "colab_type": "text"
      },
      "source": [
        "<a href=\"https://colab.research.google.com/github/senasung37/recommendation/blob/main/movie_recommender_surprise.ipynb\" target=\"_parent\"><img src=\"https://colab.research.google.com/assets/colab-badge.svg\" alt=\"Open In Colab\"/></a>"
      ]
    },
    {
      "cell_type": "markdown",
      "source": [
        "코드출처: 이수안 컴퓨터 연구소 <br>\n",
        "- 링크: https://www.youtube.com/watch?v=6TP51jvjLsE&t=698s"
      ],
      "metadata": {
        "id": "asV4h2g19-AO"
      }
    },
    {
      "cell_type": "markdown",
      "source": [
        "#라이브러리 & 데이터 불러오기"
      ],
      "metadata": {
        "id": "t9lrpot8yOVu"
      }
    },
    {
      "cell_type": "markdown",
      "source": [
        "surprise: 추천 시스템 개발을 위한 라이브러리 "
      ],
      "metadata": {
        "id": "RadJ4rpJdrUt"
      }
    },
    {
      "cell_type": "code",
      "execution_count": 2,
      "metadata": {
        "colab": {
          "base_uri": "https://localhost:8080/"
        },
        "id": "iJ9ndInIoOFB",
        "outputId": "7de3af80-0b28-4107-ca07-590f65dfa83b"
      },
      "outputs": [
        {
          "output_type": "stream",
          "name": "stdout",
          "text": [
            "Looking in indexes: https://pypi.org/simple, https://us-python.pkg.dev/colab-wheels/public/simple/\n",
            "Collecting scikit-surprise\n",
            "  Downloading scikit-surprise-1.1.1.tar.gz (11.8 MB)\n",
            "\u001b[K     |████████████████████████████████| 11.8 MB 7.6 MB/s \n",
            "\u001b[?25hRequirement already satisfied: joblib>=0.11 in /usr/local/lib/python3.7/dist-packages (from scikit-surprise) (1.1.0)\n",
            "Requirement already satisfied: numpy>=1.11.2 in /usr/local/lib/python3.7/dist-packages (from scikit-surprise) (1.21.6)\n",
            "Requirement already satisfied: scipy>=1.0.0 in /usr/local/lib/python3.7/dist-packages (from scikit-surprise) (1.7.3)\n",
            "Requirement already satisfied: six>=1.10.0 in /usr/local/lib/python3.7/dist-packages (from scikit-surprise) (1.15.0)\n",
            "Building wheels for collected packages: scikit-surprise\n",
            "  Building wheel for scikit-surprise (setup.py) ... \u001b[?25l\u001b[?25hdone\n",
            "  Created wheel for scikit-surprise: filename=scikit_surprise-1.1.1-cp37-cp37m-linux_x86_64.whl size=1633961 sha256=7411b1c6ffd7808f27c1c5c592ddf0d6b723b35c221ba9b7392565de23a58285\n",
            "  Stored in directory: /root/.cache/pip/wheels/76/44/74/b498c42be47b2406bd27994e16c5188e337c657025ab400c1c\n",
            "Successfully built scikit-surprise\n",
            "Installing collected packages: scikit-surprise\n",
            "Successfully installed scikit-surprise-1.1.1\n"
          ]
        }
      ],
      "source": [
        "#surprise 라이브러리 설치\n",
        "!pip install scikit-surprise"
      ]
    },
    {
      "cell_type": "code",
      "source": [
        "#라이브러리 불러오기\n",
        "from surprise import SVD\n",
        "from surprise import Dataset\n",
        "from surprise.model_selection import cross_validate"
      ],
      "metadata": {
        "id": "kEBpqF7ZocMw"
      },
      "execution_count": 3,
      "outputs": []
    },
    {
      "cell_type": "code",
      "source": [
        "#데이터 불러오기 (ml-100k: 데이터 종류)\n",
        "#피쳐: 사용자id, 영화id, 평점, 시간)\n",
        "data = Dataset.load_builtin('ml-100k', prompt=False)\n",
        "data.raw_ratings[:10]"
      ],
      "metadata": {
        "colab": {
          "base_uri": "https://localhost:8080/"
        },
        "id": "2Aznu-Obon5N",
        "outputId": "574cfee3-18dc-41a1-c509-5c170e837011"
      },
      "execution_count": 4,
      "outputs": [
        {
          "output_type": "stream",
          "name": "stdout",
          "text": [
            "Trying to download dataset from http://files.grouplens.org/datasets/movielens/ml-100k.zip...\n",
            "Done! Dataset ml-100k has been saved to /root/.surprise_data/ml-100k\n"
          ]
        },
        {
          "output_type": "execute_result",
          "data": {
            "text/plain": [
              "[('196', '242', 3.0, '881250949'),\n",
              " ('186', '302', 3.0, '891717742'),\n",
              " ('22', '377', 1.0, '878887116'),\n",
              " ('244', '51', 2.0, '880606923'),\n",
              " ('166', '346', 1.0, '886397596'),\n",
              " ('298', '474', 4.0, '884182806'),\n",
              " ('115', '265', 2.0, '881171488'),\n",
              " ('253', '465', 5.0, '891628467'),\n",
              " ('305', '451', 3.0, '886324817'),\n",
              " ('6', '86', 3.0, '883603013')]"
            ]
          },
          "metadata": {},
          "execution_count": 4
        }
      ]
    },
    {
      "cell_type": "code",
      "source": [
        "#모델 설정(SVD - matrix factorization 알고리즘, 비어있는 값들 예측)\n",
        "model = SVD()"
      ],
      "metadata": {
        "id": "R1oFNyD5ox1u"
      },
      "execution_count": 5,
      "outputs": []
    },
    {
      "cell_type": "code",
      "source": [
        "#모델 검증\n",
        "cross_validate(model, data, measures=['rmse', 'mae'], cv=5, verbose=True)"
      ],
      "metadata": {
        "colab": {
          "base_uri": "https://localhost:8080/"
        },
        "id": "hlTNZt9jpWyk",
        "outputId": "8892c445-4651-46fb-f6b1-075fd5b3191b"
      },
      "execution_count": 6,
      "outputs": [
        {
          "output_type": "stream",
          "name": "stdout",
          "text": [
            "Evaluating RMSE, MAE of algorithm SVD on 5 split(s).\n",
            "\n",
            "                  Fold 1  Fold 2  Fold 3  Fold 4  Fold 5  Mean    Std     \n",
            "RMSE (testset)    0.9344  0.9386  0.9333  0.9416  0.9379  0.9371  0.0030  \n",
            "MAE (testset)     0.7353  0.7418  0.7358  0.7412  0.7394  0.7387  0.0027  \n",
            "Fit time          5.66    9.22    5.29    5.20    4.66    6.01    1.64    \n",
            "Test time         0.58    0.23    0.25    0.24    0.12    0.28    0.15    \n"
          ]
        },
        {
          "output_type": "execute_result",
          "data": {
            "text/plain": [
              "{'fit_time': (5.6599507331848145,\n",
              "  9.222877979278564,\n",
              "  5.292036533355713,\n",
              "  5.1974196434021,\n",
              "  4.656642198562622),\n",
              " 'test_mae': array([0.73530231, 0.74177846, 0.73579188, 0.74119352, 0.73940918]),\n",
              " 'test_rmse': array([0.93437325, 0.93855632, 0.93333692, 0.94155208, 0.93787465]),\n",
              " 'test_time': (0.5772707462310791,\n",
              "  0.22705674171447754,\n",
              "  0.2518765926361084,\n",
              "  0.24018383026123047,\n",
              "  0.12134313583374023)}"
            ]
          },
          "metadata": {},
          "execution_count": 6
        }
      ]
    },
    {
      "cell_type": "markdown",
      "source": [
        "#컨텐츠 기반 필터링\n",
        "사용자가 좋아하는 상품과 유사한 상품 추천(예시: 나와 비슷한 취향의 사용자가 시청한 영화 추천)\n",
        "- 장점: 많은 수의 사용자 대상으로 쉽게 확장, 관심 없던 상품 추천 가능\n",
        "- 단점: 입력 특성을 직접 설계해야 돼서 도메인 지식 필요, 사용자 기존 관심사항 기반으로만 추천 가능"
      ],
      "metadata": {
        "id": "AqRzfiZXpzjG"
      }
    },
    {
      "cell_type": "markdown",
      "source": [
        "## dot product를 사용한 추천"
      ],
      "metadata": {
        "id": "35P6id3i3Kgl"
      }
    },
    {
      "cell_type": "code",
      "source": [
        "import numpy as np\n",
        "from surprise import Dataset"
      ],
      "metadata": {
        "id": "STnfDLXepetN"
      },
      "execution_count": 7,
      "outputs": []
    },
    {
      "cell_type": "code",
      "source": [
        "#데이터 array로 만들기\n",
        "raw_data = np.array(data.raw_ratings, dtype=int)\n",
        "raw_data"
      ],
      "metadata": {
        "colab": {
          "base_uri": "https://localhost:8080/"
        },
        "id": "1EqoCAt-qL9Z",
        "outputId": "bc4ab913-f72e-4c40-cc50-0f04bdf25c09"
      },
      "execution_count": 8,
      "outputs": [
        {
          "output_type": "execute_result",
          "data": {
            "text/plain": [
              "array([[      196,       242,         3, 881250949],\n",
              "       [      186,       302,         3, 891717742],\n",
              "       [       22,       377,         1, 878887116],\n",
              "       ...,\n",
              "       [      276,      1090,         1, 874795795],\n",
              "       [       13,       225,         2, 882399156],\n",
              "       [       12,       203,         3, 879959583]])"
            ]
          },
          "metadata": {},
          "execution_count": 8
        }
      ]
    },
    {
      "cell_type": "code",
      "source": [
        "#userid, movieid가 0부터 시작하도록 변경\n",
        "raw_data[:,0] -= 1\n",
        "raw_data[:,1] -= 1\n",
        "raw_data\n"
      ],
      "metadata": {
        "colab": {
          "base_uri": "https://localhost:8080/"
        },
        "id": "ldd9EMXqqbRc",
        "outputId": "60e259c8-a91b-459c-9865-7bf4ddec9163"
      },
      "execution_count": 9,
      "outputs": [
        {
          "output_type": "execute_result",
          "data": {
            "text/plain": [
              "array([[      195,       241,         3, 881250949],\n",
              "       [      185,       301,         3, 891717742],\n",
              "       [       21,       376,         1, 878887116],\n",
              "       ...,\n",
              "       [      275,      1089,         1, 874795795],\n",
              "       [       12,       224,         2, 882399156],\n",
              "       [       11,       202,         3, 879959583]])"
            ]
          },
          "metadata": {},
          "execution_count": 9
        }
      ]
    },
    {
      "cell_type": "code",
      "source": [
        "#유저, 영화 최대값으로 shape 만들기\n",
        "n_users = np.max(raw_data[:, 0])\n",
        "n_movies = np.max(raw_data[:, 1])\n",
        "shape = (n_users + 1, n_movies + 1)\n",
        "shape"
      ],
      "metadata": {
        "colab": {
          "base_uri": "https://localhost:8080/"
        },
        "id": "ExPxrn4XqoMR",
        "outputId": "450c5f26-fadf-48fc-8952-ff47d2543d60"
      },
      "execution_count": 10,
      "outputs": [
        {
          "output_type": "execute_result",
          "data": {
            "text/plain": [
              "(943, 1682)"
            ]
          },
          "metadata": {},
          "execution_count": 10
        }
      ]
    },
    {
      "cell_type": "code",
      "source": [
        "#user x movie 인접행렬 만들기(데이터가 있으면 1, 없으면 0)\n",
        "adj_matrix = np.ndarray(shape, dtype=int)\n",
        "for user_id, movie_id, rating, time in raw_data:\n",
        "  adj_matrix[user_id, movie_id] = 1.\n",
        "adj_matrix"
      ],
      "metadata": {
        "id": "Q9RZMn9VLxKi",
        "colab": {
          "base_uri": "https://localhost:8080/"
        },
        "outputId": "ab7b16c1-6443-439c-ada0-8e042be5fc29"
      },
      "execution_count": 11,
      "outputs": [
        {
          "output_type": "execute_result",
          "data": {
            "text/plain": [
              "array([[1, 1, 1, ..., 0, 0, 0],\n",
              "       [1, 0, 0, ..., 0, 0, 0],\n",
              "       [0, 0, 0, ..., 0, 0, 0],\n",
              "       ...,\n",
              "       [1, 0, 0, ..., 0, 0, 0],\n",
              "       [0, 0, 0, ..., 0, 0, 0],\n",
              "       [0, 1, 0, ..., 0, 0, 0]])"
            ]
          },
          "metadata": {},
          "execution_count": 11
        }
      ]
    },
    {
      "cell_type": "code",
      "source": [
        "#dot product 유사도 평가 알고리즘 - 입력한 id와 가장 유사한 similarity 및 ID 도출\n",
        "my_id = int(input())\n",
        "my_vector = adj_matrix[my_id]\n",
        "best_match, best_match_id, best_match_vector = -1, -1, []\n",
        "\n",
        "for user_id, user_vector in enumerate(adj_matrix):\n",
        "  if my_id != user_id:\n",
        "    similarity = np.dot(my_vector, user_vector)\n",
        "    if similarity > best_match:\n",
        "      best_match = similarity\n",
        "      best_match_id = user_id\n",
        "      best_match_vector = user_vector\n",
        "      \n",
        "print(\"Best Match Similarity: {}, Best Match ID: {}\".format(best_match, best_match_id))"
      ],
      "metadata": {
        "id": "uykkl6FEOH1U",
        "colab": {
          "base_uri": "https://localhost:8080/"
        },
        "outputId": "fb7063da-6953-4826-ed00-a8701532086d"
      },
      "execution_count": 12,
      "outputs": [
        {
          "output_type": "stream",
          "name": "stdout",
          "text": [
            "0\n",
            "Best Match Similarity: 183, Best Match ID: 275\n"
          ]
        }
      ]
    },
    {
      "cell_type": "code",
      "source": [
        "#추천리스트 뽑기(내가 보지 않았지만 유사 ID가 본 영화)\n",
        "recommend_lst = []\n",
        "for i, log in enumerate(zip(my_vector, best_match_vector)):\n",
        "  log1, log2 = log\n",
        "  if log1 < 1. and log2 > 0.:\n",
        "    recommend_lst.append(i)\n",
        "print(recommend_lst)"
      ],
      "metadata": {
        "colab": {
          "base_uri": "https://localhost:8080/"
        },
        "id": "JFTq529euWcm",
        "outputId": "8e892dcf-fc60-4d71-c0de-1779a95725b3"
      },
      "execution_count": 18,
      "outputs": [
        {
          "output_type": "stream",
          "name": "stdout",
          "text": [
            "[272, 273, 275, 280, 281, 283, 287, 288, 289, 290, 292, 293, 297, 299, 300, 301, 302, 306, 312, 314, 315, 316, 317, 321, 322, 323, 324, 327, 330, 331, 332, 333, 339, 342, 345, 346, 353, 354, 355, 356, 357, 363, 364, 365, 366, 372, 374, 378, 379, 381, 382, 383, 384, 385, 386, 387, 390, 391, 392, 394, 395, 396, 398, 400, 401, 402, 403, 404, 405, 406, 407, 408, 409, 410, 412, 414, 416, 417, 418, 419, 420, 422, 424, 425, 426, 427, 428, 430, 431, 432, 435, 442, 446, 447, 448, 449, 450, 451, 452, 454, 455, 457, 460, 461, 462, 468, 469, 470, 471, 472, 473, 474, 478, 495, 500, 507, 517, 522, 525, 530, 539, 540, 543, 545, 546, 548, 549, 550, 551, 553, 557, 558, 560, 561, 562, 563, 565, 566, 567, 568, 570, 571, 574, 575, 576, 577, 580, 581, 582, 585, 587, 589, 590, 594, 596, 602, 623, 626, 627, 630, 633, 635, 639, 646, 648, 651, 652, 654, 657, 664, 668, 671, 677, 678, 681, 683, 684, 685, 690, 691, 692, 695, 696, 708, 709, 714, 718, 719, 720, 724, 726, 727, 731, 733, 734, 736, 738, 741, 742, 745, 746, 747, 749, 750, 754, 758, 762, 764, 767, 768, 769, 770, 771, 772, 773, 778, 779, 782, 785, 788, 789, 793, 795, 796, 799, 800, 801, 802, 805, 806, 808, 815, 819, 822, 824, 830, 839, 842, 843, 844, 852, 853, 870, 875, 878, 880, 889, 901, 914, 915, 918, 921, 927, 929, 930, 938, 940, 941, 942, 948, 950, 958, 968, 973, 974, 976, 992, 999, 1005, 1009, 1010, 1012, 1015, 1018, 1027, 1030, 1034, 1035, 1041, 1043, 1045, 1046, 1051, 1055, 1072, 1073, 1078, 1080, 1082, 1088, 1089, 1090, 1094, 1097, 1108, 1109, 1117, 1128, 1130, 1134, 1139, 1140, 1144, 1156, 1169, 1171, 1179, 1193, 1198, 1207, 1209, 1212, 1217, 1219, 1220, 1227, 1231, 1238, 1239, 1243, 1244, 1252, 1266, 1272, 1273, 1300, 1313, 1406, 1412, 1415, 1470, 1477, 1480, 1481, 1482]\n"
          ]
        }
      ]
    },
    {
      "cell_type": "markdown",
      "source": [
        "## 유클리드 거리를 사용한 추천"
      ],
      "metadata": {
        "id": "csJKvimS17Aj"
      }
    },
    {
      "cell_type": "code",
      "source": [
        "#유클리드 거리 유사도 평가 알고리즘\n",
        "my_id = int(input())\n",
        "my_vector = adj_matrix[my_id]\n",
        "best_match, best_match_id, best_match_vector = 999, -1, []\n",
        "\n",
        "for user_id, user_vector in enumerate(adj_matrix):\n",
        "  if my_id != user_id:\n",
        "    euc_dist = np.sqrt(np.sum(np.square(my_vector - user_vector)))\n",
        "    if euc_dist < best_match:\n",
        "      best_match = euc_dist\n",
        "      best_match_id = user_id\n",
        "      best_match_vector = user_vector\n",
        "      \n",
        "print(\"Best Match Euclidean Distance: {}, Best Match ID: {}\".format(best_match, best_match_id))"
      ],
      "metadata": {
        "colab": {
          "base_uri": "https://localhost:8080/"
        },
        "id": "TRqyUK9h16KX",
        "outputId": "c53afa74-847a-4a0c-899d-c6813e880759"
      },
      "execution_count": 26,
      "outputs": [
        {
          "output_type": "stream",
          "name": "stdout",
          "text": [
            "0\n",
            "Best Match Euclidean Distance: 14.832396974191326, Best Match ID: 737\n"
          ]
        }
      ]
    },
    {
      "cell_type": "code",
      "source": [
        "#추천리스트 뽑기(내가 보지 않았지만 유사 ID가 본 영화)\n",
        "recommend_lst = []\n",
        "for i, log in enumerate(zip(my_vector, best_match_vector)):\n",
        "  log1, log2 = log\n",
        "  if log1 < 1. and log2 > 0.:\n",
        "    recommend_lst.append(i)\n",
        "print(recommend_lst)"
      ],
      "metadata": {
        "colab": {
          "base_uri": "https://localhost:8080/"
        },
        "id": "LzrciZQ02lpF",
        "outputId": "986089c3-1528-45e3-fd3d-a51f51866e17"
      },
      "execution_count": 29,
      "outputs": [
        {
          "output_type": "stream",
          "name": "stdout",
          "text": [
            "[297, 312, 317, 342, 356, 366, 379, 384, 392, 402, 404, 407, 417, 422, 428, 433, 448, 454, 469, 473, 495, 510, 516, 526, 527, 549, 567, 602, 635, 649, 650, 654, 658, 661, 664, 696, 731, 746, 750, 754, 915, 918, 925, 929, 950, 968, 1015, 1046]\n"
          ]
        }
      ]
    },
    {
      "cell_type": "markdown",
      "source": [
        "## 코사인 유사도를 사용한 추천"
      ],
      "metadata": {
        "id": "itIcm8gx3AQN"
      }
    },
    {
      "cell_type": "code",
      "source": [
        "#코사인 유사도 함수\n",
        "def compute_cos_sim(v1, v2):\n",
        "  norm1 = np.sqrt(np.sum(np.square(v1)))\n",
        "  norm2 = np.sqrt(np.sum(np.square(v2)))\n",
        "  dot = np.dot(v1, v2)\n",
        "  return dot / (norm1 * norm2)"
      ],
      "metadata": {
        "id": "vPlFuh402_Ta"
      },
      "execution_count": 32,
      "outputs": []
    },
    {
      "cell_type": "code",
      "source": [
        "#코사인 유사도 평가 알고리즘\n",
        "my_id = int(input())\n",
        "my_vector = adj_matrix[my_id]\n",
        "best_match, best_match_id, best_match_vector = -1, -1, []\n",
        "\n",
        "for user_id, user_vector in enumerate(adj_matrix):\n",
        "  if my_id != user_id:\n",
        "    cos_sim = compute_cos_sim(my_vector, user_vector)\n",
        "    if cos_sim > best_match:\n",
        "      best_match = cos_sim\n",
        "      best_match_id = user_id\n",
        "      best_match_vector = user_vector\n",
        "      \n",
        "print(\"Best Match Euclidean Distance: {}, Best Match ID: {}\".format(best_match, best_match_id))"
      ],
      "metadata": {
        "colab": {
          "base_uri": "https://localhost:8080/"
        },
        "id": "GZYfnccPAcLt",
        "outputId": "9389dc20-589a-43e0-f90c-bd6f42bd79b1"
      },
      "execution_count": 34,
      "outputs": [
        {
          "output_type": "stream",
          "name": "stdout",
          "text": [
            "0\n",
            "Best Match Euclidean Distance: 0.5278586163659506, Best Match ID: 915\n"
          ]
        }
      ]
    },
    {
      "cell_type": "code",
      "source": [
        "#추천리스트 뽑기(내가 보지 않았지만 유사 ID가 본 영화)\n",
        "recommend_lst = []\n",
        "for i, log in enumerate(zip(my_vector, best_match_vector)):\n",
        "  log1, log2 = log\n",
        "  if log1 < 1. and log2 > 0.:\n",
        "    recommend_lst.append(i)\n",
        "print(recommend_lst)"
      ],
      "metadata": {
        "colab": {
          "base_uri": "https://localhost:8080/"
        },
        "id": "kZs7aAHFBB1-",
        "outputId": "b610abcf-df17-4374-8b35-6916379c9a92"
      },
      "execution_count": 35,
      "outputs": [
        {
          "output_type": "stream",
          "name": "stdout",
          "text": [
            "[272, 275, 279, 280, 283, 285, 289, 294, 297, 316, 317, 355, 365, 366, 368, 379, 380, 381, 384, 386, 392, 398, 401, 404, 416, 420, 422, 424, 426, 427, 430, 432, 450, 460, 461, 466, 469, 471, 473, 474, 475, 479, 482, 483, 497, 505, 508, 510, 511, 522, 526, 527, 529, 530, 534, 536, 540, 545, 548, 549, 556, 557, 558, 560, 565, 567, 568, 569, 577, 580, 581, 582, 592, 596, 630, 635, 639, 641, 649, 651, 654, 673, 677, 678, 683, 684, 692, 696, 701, 703, 707, 708, 709, 712, 714, 719, 720, 726, 731, 734, 736, 738, 740, 745, 747, 754, 755, 761, 762, 763, 766, 780, 789, 791, 805, 819, 823, 824, 830, 843, 862, 865, 918, 929, 930, 938, 942, 943, 947, 958, 959, 960, 970, 977, 1004, 1008, 1009, 1010, 1013, 1041, 1045, 1069, 1072, 1073, 1078, 1097, 1100, 1108, 1112, 1118, 1134, 1193, 1205, 1207, 1216, 1219, 1267, 1334, 1400, 1427, 1596, 1681]\n"
          ]
        }
      ]
    },
    {
      "cell_type": "markdown",
      "source": [
        "## 평점을 활용한 추천"
      ],
      "metadata": {
        "id": "f6373BeABTow"
      }
    },
    {
      "cell_type": "code",
      "source": [
        "adj_matrix = np.ndarray(shape, dtype=int)\n",
        "for user_id, movie_id, rating, time in raw_data:\n",
        "  adj_matrix[user_id, movie_id] = rating\n",
        "adj_matrix"
      ],
      "metadata": {
        "colab": {
          "base_uri": "https://localhost:8080/"
        },
        "id": "Fyy-gPt7BPCB",
        "outputId": "d37e5d1d-21c7-45ec-b6c5-c58047dddee1"
      },
      "execution_count": 36,
      "outputs": [
        {
          "output_type": "execute_result",
          "data": {
            "text/plain": [
              "array([[5, 3, 4, ..., 0, 0, 0],\n",
              "       [4, 0, 0, ..., 0, 0, 0],\n",
              "       [0, 0, 0, ..., 0, 0, 0],\n",
              "       ...,\n",
              "       [5, 0, 0, ..., 0, 0, 0],\n",
              "       [0, 0, 0, ..., 0, 0, 0],\n",
              "       [0, 5, 0, ..., 0, 0, 0]])"
            ]
          },
          "metadata": {},
          "execution_count": 36
        }
      ]
    },
    {
      "cell_type": "code",
      "source": [
        "#유클리드 거리 유사도 평가 알고리즘\n",
        "my_id = int(input())\n",
        "my_vector = adj_matrix[my_id]\n",
        "best_match, best_match_id, best_match_vector = 999, -1, []\n",
        "\n",
        "for user_id, user_vector in enumerate(adj_matrix):\n",
        "  if my_id != user_id:\n",
        "    euc_dist = np.sqrt(np.sum(np.square(my_vector - user_vector)))\n",
        "    if euc_dist < best_match:\n",
        "      best_match = euc_dist\n",
        "      best_match_id = user_id\n",
        "      best_match_vector = user_vector\n",
        "      \n",
        "print(\"Best Match Euclidean Distance: {}, Best Match ID: {}\".format(best_match, best_match_id))"
      ],
      "metadata": {
        "colab": {
          "base_uri": "https://localhost:8080/"
        },
        "id": "I7xZTYQBBrl-",
        "outputId": "845d22c6-d801-4047-d53d-3a4151eab13d"
      },
      "execution_count": 39,
      "outputs": [
        {
          "output_type": "stream",
          "name": "stdout",
          "text": [
            "0\n",
            "Best Match Euclidean Distance: 55.06359959174482, Best Match ID: 737\n"
          ]
        }
      ]
    },
    {
      "cell_type": "code",
      "source": [
        "#코사인 유사도 평가 알고리즘\n",
        "my_id = int(input())\n",
        "my_vector = adj_matrix[my_id]\n",
        "best_match, best_match_id, best_match_vector = -1, -1, []\n",
        "\n",
        "for user_id, user_vector in enumerate(adj_matrix):\n",
        "  if my_id != user_id:\n",
        "    cos_sim = compute_cos_sim(my_vector, user_vector)\n",
        "    if cos_sim > best_match:\n",
        "      best_match = cos_sim\n",
        "      best_match_id = user_id\n",
        "      best_match_vector = user_vector\n",
        "      \n",
        "print(\"Best Match Euclidean Distance: {}, Best Match ID: {}\".format(best_match, best_match_id))"
      ],
      "metadata": {
        "colab": {
          "base_uri": "https://localhost:8080/"
        },
        "id": "rnquWlXWBuek",
        "outputId": "6622e9b9-58d7-41a0-aaa8-8284fd96fd1d"
      },
      "execution_count": 40,
      "outputs": [
        {
          "output_type": "stream",
          "name": "stdout",
          "text": [
            "0\n",
            "Best Match Euclidean Distance: 0.569065731527988, Best Match ID: 915\n"
          ]
        }
      ]
    }
  ]
}