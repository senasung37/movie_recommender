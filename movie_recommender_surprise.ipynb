{
  "nbformat": 4,
  "nbformat_minor": 0,
  "metadata": {
    "colab": {
      "provenance": [],
      "collapsed_sections": [],
      "authorship_tag": "ABX9TyNNumvuyXP+gQlNo7T9cHZC",
      "include_colab_link": true
    },
    "kernelspec": {
      "name": "python3",
      "display_name": "Python 3"
    },
    "language_info": {
      "name": "python"
    },
    "accelerator": "GPU",
    "gpuClass": "standard"
  },
  "cells": [
    {
      "cell_type": "markdown",
      "metadata": {
        "id": "view-in-github",
        "colab_type": "text"
      },
      "source": [
        "<a href=\"https://colab.research.google.com/github/senasung37/recommendation/blob/main/movie_recommender_surprise.ipynb\" target=\"_parent\"><img src=\"https://colab.research.google.com/assets/colab-badge.svg\" alt=\"Open In Colab\"/></a>"
      ]
    },
    {
      "cell_type": "markdown",
      "source": [
        "코드출처: \n",
        "- 이수안 컴퓨터 연구소 <br>\n",
        "https://www.youtube.com/watch?v=6TP51jvjLsE&t=698s\n",
        "- towardsdatascience.com <br>\n",
        "https://towardsdatascience.com/how-you-can-build-simple-recommender-systems-with-surprise-b0d32a8e4802"
      ],
      "metadata": {
        "id": "asV4h2g19-AO"
      }
    },
    {
      "cell_type": "markdown",
      "source": [
        "#라이브러리 & 데이터 불러오기"
      ],
      "metadata": {
        "id": "t9lrpot8yOVu"
      }
    },
    {
      "cell_type": "markdown",
      "source": [
        "surprise: 추천 시스템 개발을 위한 라이브러리 "
      ],
      "metadata": {
        "id": "RadJ4rpJdrUt"
      }
    },
    {
      "cell_type": "code",
      "execution_count": null,
      "metadata": {
        "colab": {
          "base_uri": "https://localhost:8080/"
        },
        "id": "iJ9ndInIoOFB",
        "outputId": "5e4599e7-eb91-45f8-e1a6-a4e0d03526d1"
      },
      "outputs": [
        {
          "output_type": "stream",
          "name": "stdout",
          "text": [
            "Looking in indexes: https://pypi.org/simple, https://us-python.pkg.dev/colab-wheels/public/simple/\n",
            "Collecting scikit-surprise\n",
            "  Downloading scikit-surprise-1.1.1.tar.gz (11.8 MB)\n",
            "\u001b[K     |████████████████████████████████| 11.8 MB 7.1 MB/s \n",
            "\u001b[?25hRequirement already satisfied: joblib>=0.11 in /usr/local/lib/python3.7/dist-packages (from scikit-surprise) (1.1.0)\n",
            "Requirement already satisfied: numpy>=1.11.2 in /usr/local/lib/python3.7/dist-packages (from scikit-surprise) (1.21.6)\n",
            "Requirement already satisfied: scipy>=1.0.0 in /usr/local/lib/python3.7/dist-packages (from scikit-surprise) (1.7.3)\n",
            "Requirement already satisfied: six>=1.10.0 in /usr/local/lib/python3.7/dist-packages (from scikit-surprise) (1.15.0)\n",
            "Building wheels for collected packages: scikit-surprise\n",
            "  Building wheel for scikit-surprise (setup.py) ... \u001b[?25l\u001b[?25hdone\n",
            "  Created wheel for scikit-surprise: filename=scikit_surprise-1.1.1-cp37-cp37m-linux_x86_64.whl size=1633980 sha256=edca6f62ae96911c70a0ca4633a22249cbe5cb1e1b6c5d1bda3b87c803a8dfe2\n",
            "  Stored in directory: /root/.cache/pip/wheels/76/44/74/b498c42be47b2406bd27994e16c5188e337c657025ab400c1c\n",
            "Successfully built scikit-surprise\n",
            "Installing collected packages: scikit-surprise\n",
            "Successfully installed scikit-surprise-1.1.1\n"
          ]
        }
      ],
      "source": [
        "#surprise 라이브러리 설치\n",
        "!pip install scikit-surprise"
      ]
    },
    {
      "cell_type": "code",
      "source": [
        "#라이브러리 불러오기\n",
        "from surprise import SVD\n",
        "from surprise import Dataset\n",
        "from surprise.model_selection import cross_validate"
      ],
      "metadata": {
        "id": "kEBpqF7ZocMw"
      },
      "execution_count": null,
      "outputs": []
    },
    {
      "cell_type": "code",
      "source": [
        "#데이터 불러오기 (ml-100k: 데이터 종류)\n",
        "#피쳐: 사용자id, 영화id, 평점, 시간)\n",
        "data = Dataset.load_builtin('ml-100k', prompt=False)\n",
        "data.raw_ratings[:10]"
      ],
      "metadata": {
        "colab": {
          "base_uri": "https://localhost:8080/"
        },
        "id": "2Aznu-Obon5N",
        "outputId": "457805a0-7414-478a-a78d-dd7c62730874"
      },
      "execution_count": null,
      "outputs": [
        {
          "output_type": "stream",
          "name": "stdout",
          "text": [
            "Trying to download dataset from http://files.grouplens.org/datasets/movielens/ml-100k.zip...\n",
            "Done! Dataset ml-100k has been saved to /root/.surprise_data/ml-100k\n"
          ]
        },
        {
          "output_type": "execute_result",
          "data": {
            "text/plain": [
              "[('196', '242', 3.0, '881250949'),\n",
              " ('186', '302', 3.0, '891717742'),\n",
              " ('22', '377', 1.0, '878887116'),\n",
              " ('244', '51', 2.0, '880606923'),\n",
              " ('166', '346', 1.0, '886397596'),\n",
              " ('298', '474', 4.0, '884182806'),\n",
              " ('115', '265', 2.0, '881171488'),\n",
              " ('253', '465', 5.0, '891628467'),\n",
              " ('305', '451', 3.0, '886324817'),\n",
              " ('6', '86', 3.0, '883603013')]"
            ]
          },
          "metadata": {},
          "execution_count": 4
        }
      ]
    },
    {
      "cell_type": "code",
      "source": [
        "#모델 설정(SVD - matrix factorization 알고리즘, 비어있는 값들 예측)\n",
        "model = SVD()"
      ],
      "metadata": {
        "id": "R1oFNyD5ox1u"
      },
      "execution_count": null,
      "outputs": []
    },
    {
      "cell_type": "code",
      "source": [
        "#모델 검증\n",
        "cross_validate(model, data, measures=['rmse', 'mae'], cv=5, verbose=True)"
      ],
      "metadata": {
        "colab": {
          "base_uri": "https://localhost:8080/"
        },
        "id": "hlTNZt9jpWyk",
        "outputId": "b01a0c2b-3be5-412d-80ab-aba351364705"
      },
      "execution_count": null,
      "outputs": [
        {
          "output_type": "stream",
          "name": "stdout",
          "text": [
            "Evaluating RMSE, MAE of algorithm SVD on 5 split(s).\n",
            "\n",
            "                  Fold 1  Fold 2  Fold 3  Fold 4  Fold 5  Mean    Std     \n",
            "RMSE (testset)    0.9360  0.9338  0.9348  0.9372  0.9360  0.9356  0.0012  \n",
            "MAE (testset)     0.7379  0.7361  0.7365  0.7381  0.7388  0.7375  0.0010  \n",
            "Fit time          5.42    6.42    4.10    4.06    4.11    4.82    0.95    \n",
            "Test time         0.24    0.21    0.16    0.17    0.15    0.19    0.03    \n"
          ]
        },
        {
          "output_type": "execute_result",
          "data": {
            "text/plain": [
              "{'fit_time': (5.421935319900513,\n",
              "  6.41520357131958,\n",
              "  4.104832649230957,\n",
              "  4.06043004989624,\n",
              "  4.110447406768799),\n",
              " 'test_mae': array([0.73791046, 0.73613901, 0.73653169, 0.73806921, 0.73878262]),\n",
              " 'test_rmse': array([0.93603889, 0.93377945, 0.93484755, 0.93721403, 0.93598863]),\n",
              " 'test_time': (0.2397444248199463,\n",
              "  0.20917224884033203,\n",
              "  0.1646127700805664,\n",
              "  0.16756963729858398,\n",
              "  0.1454753875732422)}"
            ]
          },
          "metadata": {},
          "execution_count": 6
        }
      ]
    },
    {
      "cell_type": "markdown",
      "source": [
        "#컨텐츠 기반 필터링\n",
        "사용자가 좋아하는 상품과 유사한 상품 추천\n",
        "- 장점: 많은 수의 사용자 대상으로 쉽게 확장, 관심 없던 상품 추천 가능\n",
        "- 단점: 입력 특성을 직접 설계해야 돼서 도메인 지식 필요, 사용자 기존 관심사항 기반으로만 추천 가능"
      ],
      "metadata": {
        "id": "AqRzfiZXpzjG"
      }
    },
    {
      "cell_type": "markdown",
      "source": [
        "# 협업 필터링 - 사용자 기반\n",
        "- 자신과 유사한 다른 사용자의 취향을 기반으로 상품 추천"
      ],
      "metadata": {
        "id": "wRS3F3TSupP4"
      }
    },
    {
      "cell_type": "markdown",
      "source": [
        "## dot product를 사용한 추천"
      ],
      "metadata": {
        "id": "35P6id3i3Kgl"
      }
    },
    {
      "cell_type": "code",
      "source": [
        "import numpy as np\n",
        "from surprise import Dataset"
      ],
      "metadata": {
        "id": "STnfDLXepetN"
      },
      "execution_count": null,
      "outputs": []
    },
    {
      "cell_type": "code",
      "source": [
        "#데이터 array로 만들기\n",
        "raw_data = np.array(data.raw_ratings, dtype=int)\n",
        "raw_data"
      ],
      "metadata": {
        "colab": {
          "base_uri": "https://localhost:8080/"
        },
        "id": "1EqoCAt-qL9Z",
        "outputId": "46b2f540-1b4b-4214-af48-e902c39e62a4"
      },
      "execution_count": null,
      "outputs": [
        {
          "output_type": "execute_result",
          "data": {
            "text/plain": [
              "array([[      196,       242,         3, 881250949],\n",
              "       [      186,       302,         3, 891717742],\n",
              "       [       22,       377,         1, 878887116],\n",
              "       ...,\n",
              "       [      276,      1090,         1, 874795795],\n",
              "       [       13,       225,         2, 882399156],\n",
              "       [       12,       203,         3, 879959583]])"
            ]
          },
          "metadata": {},
          "execution_count": 8
        }
      ]
    },
    {
      "cell_type": "code",
      "source": [
        "#userid, movieid가 0부터 시작하도록 변경\n",
        "raw_data[:,0] -= 1\n",
        "raw_data[:,1] -= 1\n",
        "raw_data\n"
      ],
      "metadata": {
        "colab": {
          "base_uri": "https://localhost:8080/"
        },
        "id": "ldd9EMXqqbRc",
        "outputId": "40495be1-516a-4d24-be97-20f9374bb960"
      },
      "execution_count": null,
      "outputs": [
        {
          "output_type": "execute_result",
          "data": {
            "text/plain": [
              "array([[      195,       241,         3, 881250949],\n",
              "       [      185,       301,         3, 891717742],\n",
              "       [       21,       376,         1, 878887116],\n",
              "       ...,\n",
              "       [      275,      1089,         1, 874795795],\n",
              "       [       12,       224,         2, 882399156],\n",
              "       [       11,       202,         3, 879959583]])"
            ]
          },
          "metadata": {},
          "execution_count": 9
        }
      ]
    },
    {
      "cell_type": "code",
      "source": [
        "#유저, 영화 최대값으로 shape 만들기\n",
        "n_users = np.max(raw_data[:, 0])\n",
        "n_movies = np.max(raw_data[:, 1])\n",
        "shape = (n_users + 1, n_movies + 1)\n",
        "shape"
      ],
      "metadata": {
        "colab": {
          "base_uri": "https://localhost:8080/"
        },
        "id": "ExPxrn4XqoMR",
        "outputId": "e539ce16-5427-4ae4-95a1-1dbd1b711556"
      },
      "execution_count": null,
      "outputs": [
        {
          "output_type": "execute_result",
          "data": {
            "text/plain": [
              "(943, 1682)"
            ]
          },
          "metadata": {},
          "execution_count": 10
        }
      ]
    },
    {
      "cell_type": "code",
      "source": [
        "#user x movie 인접행렬 만들기(데이터가 있으면 1, 없으면 0)\n",
        "adj_matrix = np.ndarray(shape, dtype=int)\n",
        "for user_id, movie_id, rating, time in raw_data:\n",
        "  adj_matrix[user_id, movie_id] = 1.\n",
        "adj_matrix"
      ],
      "metadata": {
        "id": "Q9RZMn9VLxKi",
        "colab": {
          "base_uri": "https://localhost:8080/"
        },
        "outputId": "9395ec5c-1500-4097-b99e-429d94776ea2"
      },
      "execution_count": null,
      "outputs": [
        {
          "output_type": "execute_result",
          "data": {
            "text/plain": [
              "array([[1, 1, 1, ..., 0, 0, 0],\n",
              "       [1, 0, 0, ..., 0, 0, 0],\n",
              "       [0, 0, 0, ..., 0, 0, 0],\n",
              "       ...,\n",
              "       [1, 0, 0, ..., 0, 0, 0],\n",
              "       [0, 0, 0, ..., 0, 0, 0],\n",
              "       [0, 1, 0, ..., 0, 0, 0]])"
            ]
          },
          "metadata": {},
          "execution_count": 11
        }
      ]
    },
    {
      "cell_type": "code",
      "source": [
        "#dot product 유사도 평가 알고리즘 - 입력한 id와 가장 유사한 similarity 및 ID 도출\n",
        "my_id = int(input())\n",
        "my_vector = adj_matrix[my_id]\n",
        "best_match, best_match_id, best_match_vector = -1, -1, []\n",
        "\n",
        "for user_id, user_vector in enumerate(adj_matrix):\n",
        "  if my_id != user_id:\n",
        "    similarity = np.dot(my_vector, user_vector)\n",
        "    if similarity > best_match:\n",
        "      best_match = similarity\n",
        "      best_match_id = user_id\n",
        "      best_match_vector = user_vector\n",
        "      \n",
        "print(\"Best Match Similarity: {}, Best Match ID: {}\".format(best_match, best_match_id))"
      ],
      "metadata": {
        "id": "uykkl6FEOH1U"
      },
      "execution_count": null,
      "outputs": []
    },
    {
      "cell_type": "code",
      "source": [
        "#추천리스트 뽑기(내가 보지 않았지만 유사 ID가 본 영화)\n",
        "recommend_lst = []\n",
        "for i, log in enumerate(zip(my_vector, best_match_vector)):\n",
        "  log1, log2 = log\n",
        "  if log1 < 1. and log2 > 0.:\n",
        "    recommend_lst.append(i)\n",
        "print(recommend_lst)"
      ],
      "metadata": {
        "id": "JFTq529euWcm"
      },
      "execution_count": null,
      "outputs": []
    },
    {
      "cell_type": "markdown",
      "source": [
        "## 유클리드 거리를 사용한 추천"
      ],
      "metadata": {
        "id": "csJKvimS17Aj"
      }
    },
    {
      "cell_type": "code",
      "source": [
        "#유클리드 거리 유사도 평가 알고리즘\n",
        "my_id = int(input())\n",
        "my_vector = adj_matrix[my_id]\n",
        "best_match, best_match_id, best_match_vector = 999, -1, []\n",
        "\n",
        "for user_id, user_vector in enumerate(adj_matrix):\n",
        "  if my_id != user_id:\n",
        "    euc_dist = np.sqrt(np.sum(np.square(my_vector - user_vector)))\n",
        "    if euc_dist < best_match:\n",
        "      best_match = euc_dist\n",
        "      best_match_id = user_id\n",
        "      best_match_vector = user_vector\n",
        "      \n",
        "print(\"Best Match Euclidean Distance: {}, Best Match ID: {}\".format(best_match, best_match_id))"
      ],
      "metadata": {
        "id": "TRqyUK9h16KX"
      },
      "execution_count": null,
      "outputs": []
    },
    {
      "cell_type": "code",
      "source": [
        "#추천리스트 뽑기(내가 보지 않았지만 유사 ID가 본 영화)\n",
        "recommend_lst = []\n",
        "for i, log in enumerate(zip(my_vector, best_match_vector)):\n",
        "  log1, log2 = log\n",
        "  if log1 < 1. and log2 > 0.:\n",
        "    recommend_lst.append(i)\n",
        "print(recommend_lst)"
      ],
      "metadata": {
        "id": "LzrciZQ02lpF"
      },
      "execution_count": null,
      "outputs": []
    },
    {
      "cell_type": "markdown",
      "source": [
        "## 코사인 유사도를 사용한 추천"
      ],
      "metadata": {
        "id": "itIcm8gx3AQN"
      }
    },
    {
      "cell_type": "code",
      "source": [
        "#코사인 유사도 함수\n",
        "def compute_cos_sim(v1, v2):\n",
        "  norm1 = np.sqrt(np.sum(np.square(v1)))\n",
        "  norm2 = np.sqrt(np.sum(np.square(v2)))\n",
        "  dot = np.dot(v1, v2)\n",
        "  return dot / (norm1 * norm2)"
      ],
      "metadata": {
        "id": "vPlFuh402_Ta"
      },
      "execution_count": null,
      "outputs": []
    },
    {
      "cell_type": "code",
      "source": [
        "#코사인 유사도 평가 알고리즘\n",
        "my_id = int(input())\n",
        "my_vector = adj_matrix[my_id]\n",
        "best_match, best_match_id, best_match_vector = -1, -1, []\n",
        "\n",
        "for user_id, user_vector in enumerate(adj_matrix):\n",
        "  if my_id != user_id:\n",
        "    cos_sim = compute_cos_sim(my_vector, user_vector)\n",
        "    if cos_sim > best_match:\n",
        "      best_match = cos_sim\n",
        "      best_match_id = user_id\n",
        "      best_match_vector = user_vector\n",
        "      \n",
        "print(\"Best Match Euclidean Distance: {}, Best Match ID: {}\".format(best_match, best_match_id))"
      ],
      "metadata": {
        "id": "GZYfnccPAcLt"
      },
      "execution_count": null,
      "outputs": []
    },
    {
      "cell_type": "code",
      "source": [
        "#추천리스트 뽑기(내가 보지 않았지만 유사 ID가 본 영화)\n",
        "recommend_lst = []\n",
        "for i, log in enumerate(zip(my_vector, best_match_vector)):\n",
        "  log1, log2 = log\n",
        "  if log1 < 1. and log2 > 0.:\n",
        "    recommend_lst.append(i)\n",
        "print(recommend_lst)"
      ],
      "metadata": {
        "id": "kZs7aAHFBB1-"
      },
      "execution_count": null,
      "outputs": []
    },
    {
      "cell_type": "markdown",
      "source": [
        "## 평점을 활용한 추천"
      ],
      "metadata": {
        "id": "f6373BeABTow"
      }
    },
    {
      "cell_type": "code",
      "source": [
        "adj_matrix = np.ndarray(shape, dtype=int)\n",
        "for user_id, movie_id, rating, time in raw_data:\n",
        "  adj_matrix[user_id, movie_id] = rating\n",
        "adj_matrix"
      ],
      "metadata": {
        "id": "Fyy-gPt7BPCB"
      },
      "execution_count": null,
      "outputs": []
    },
    {
      "cell_type": "code",
      "source": [
        "#유클리드 거리 유사도 평가 알고리즘\n",
        "my_id = int(input())\n",
        "my_vector = adj_matrix[my_id]\n",
        "best_match, best_match_id, best_match_vector = 999, -1, []\n",
        "\n",
        "for user_id, user_vector in enumerate(adj_matrix):\n",
        "  if my_id != user_id:\n",
        "    euc_dist = np.sqrt(np.sum(np.square(my_vector - user_vector)))\n",
        "    if euc_dist < best_match:\n",
        "      best_match = euc_dist\n",
        "      best_match_id = user_id\n",
        "      best_match_vector = user_vector\n",
        "      \n",
        "print(\"Best Match Euclidean Distance: {}, Best Match ID: {}\".format(best_match, best_match_id))"
      ],
      "metadata": {
        "id": "I7xZTYQBBrl-"
      },
      "execution_count": null,
      "outputs": []
    },
    {
      "cell_type": "code",
      "source": [
        "#코사인 유사도 평가 알고리즘\n",
        "my_id = int(input())\n",
        "my_vector = adj_matrix[my_id]\n",
        "best_match, best_match_id, best_match_vector = -1, -1, []\n",
        "\n",
        "for user_id, user_vector in enumerate(adj_matrix):\n",
        "  if my_id != user_id:\n",
        "    cos_sim = compute_cos_sim(my_vector, user_vector)\n",
        "    if cos_sim > best_match:\n",
        "      best_match = cos_sim\n",
        "      best_match_id = user_id\n",
        "      best_match_vector = user_vector\n",
        "      \n",
        "print(\"Best Match Euclidean Distance: {}, Best Match ID: {}\".format(best_match, best_match_id))"
      ],
      "metadata": {
        "id": "rnquWlXWBuek"
      },
      "execution_count": null,
      "outputs": []
    },
    {
      "cell_type": "code",
      "source": [
        "from surprise import KNNBasic, SVD, SVDpp, NMF\n",
        "from surprise import Dataset\n",
        "from surprise.model_selection import cross_validate"
      ],
      "metadata": {
        "id": "a9MqJgZYG1co"
      },
      "execution_count": null,
      "outputs": []
    },
    {
      "cell_type": "markdown",
      "source": [
        "## 다양한 모델을 사용한 협업필터링\n",
        "- SVD, KNN,NMF, SVDpp"
      ],
      "metadata": {
        "id": "QXk77e4HHAcH"
      }
    },
    {
      "cell_type": "code",
      "source": [
        "#SVD 모델\n",
        "model = SVD()\n",
        "cross_validate(model, data, measures=['rmse', 'mae'], cv=5, n_jobs=4, verbose=True)"
      ],
      "metadata": {
        "id": "3WCDg_qoIFjb"
      },
      "execution_count": null,
      "outputs": []
    },
    {
      "cell_type": "code",
      "source": [
        "#KNN 모델\n",
        "model = KNNBasic()\n",
        "cross_validate(model, data, measures=['rmse', 'mae'], cv=5, n_jobs=4, verbose=True)"
      ],
      "metadata": {
        "id": "RRY7KhfEG-uZ"
      },
      "execution_count": null,
      "outputs": []
    },
    {
      "cell_type": "code",
      "source": [
        "#NMF 모델\n",
        "model = NMF()\n",
        "cross_validate(model, data, measures=['rmse', 'mae'], cv=5, n_jobs=4, verbose=True)"
      ],
      "metadata": {
        "id": "2IL2LZdRHSzN"
      },
      "execution_count": null,
      "outputs": []
    },
    {
      "cell_type": "code",
      "source": [
        "#SVD plus plus 모델 - 시간이 오래 소요됨\n",
        "#model = SVDpp()\n",
        "#cross_validate(model, data, measures=['rmse', 'mae'], cv=5, n_jobs=4, verbose=True)"
      ],
      "metadata": {
        "id": "Am37ZThZHa13"
      },
      "execution_count": null,
      "outputs": []
    },
    {
      "cell_type": "markdown",
      "source": [
        "# 하이브리드 모델\n",
        "- 컨텐츠, 협업 필터링 조합\n",
        "- 많은 방식 존재\n",
        "- 여기에서는 협업 필터링으로 임베딩 학습 + 컨텐츠 필터링으로 유사도 기반 추천"
      ],
      "metadata": {
        "id": "yKxXQOROIkxZ"
      }
    },
    {
      "cell_type": "markdown",
      "source": [
        "##프로젝트"
      ],
      "metadata": {
        "id": "lS9gad0QSLQR"
      }
    },
    {
      "cell_type": "code",
      "source": [
        "#모델 설정\n",
        "model = SVD()"
      ],
      "metadata": {
        "id": "imxrqt7dMjnm"
      },
      "execution_count": null,
      "outputs": []
    },
    {
      "cell_type": "code",
      "source": [
        "#훈련데이터 학습\n",
        "trainset = data.build_full_trainset()\n",
        "model.fit(trainset)"
      ],
      "metadata": {
        "id": "3d8TnLVYPhJX"
      },
      "execution_count": null,
      "outputs": []
    },
    {
      "cell_type": "code",
      "source": [
        "#특정 user의 특정 item에 대한 평점 예측\n",
        "model.predict(uid=10, iid=50)"
      ],
      "metadata": {
        "id": "vYhpX3HeNLfN"
      },
      "execution_count": null,
      "outputs": []
    },
    {
      "cell_type": "code",
      "source": [
        "adj_matrix"
      ],
      "metadata": {
        "id": "b8QiBPRPs9jd"
      },
      "execution_count": null,
      "outputs": []
    },
    {
      "cell_type": "code",
      "source": [
        "#userid x 평점 df 만들기\n",
        "import pandas as pd\n",
        "cols = range(1682)\n",
        "df = pd.DataFrame(adj_matrix, columns = cols)\n",
        "df"
      ],
      "metadata": {
        "id": "oAX2VTPzvYHS"
      },
      "execution_count": null,
      "outputs": []
    },
    {
      "cell_type": "code",
      "source": [
        "#예측 평점 넣기\n",
        "def format(my_id, x, movie_id):\n",
        "  if x != \"nan\":\n",
        "    pred = model.predict(uid=my_id, iid=movie_id)\n",
        "    return pred.est\n",
        "  else:\n",
        "    pass"
      ],
      "metadata": {
        "id": "gIgNX-_R6EMD"
      },
      "execution_count": null,
      "outputs": []
    },
    {
      "cell_type": "code",
      "source": [
        "#평점 4점 이상 예측되는 영화 추천\n",
        "my_id = int(input())\n",
        "\n",
        "df.apply(lambda x: x['c'] if x['c']>0 else format(my_id, x, )\n",
        "\n",
        "pred = model.predict(uid=my_id, iid=movie_id)\n",
        "est = pred.est\n",
        "df.loc[df[movie_id] != 'nan', movie_id] = est\n"
      ],
      "metadata": {
        "id": "VIFzQYNyQi2k"
      },
      "execution_count": null,
      "outputs": []
    },
    {
      "cell_type": "code",
      "source": [
        "#코사인 유사도 평가 알고리즘\n",
        "my_id = int(input())\n",
        "my_vector = adj_matrix[my_id]\n",
        "best_match, best_match_id, best_match_vector = -1, -1, []\n",
        "\n",
        "for user_id, user_vector in enumerate(adj_matrix):\n",
        "  if my_id != user_id:\n",
        "    cos_sim = compute_cos_sim(my_vector, user_vector)\n",
        "    if cos_sim > best_match:\n",
        "      best_match = cos_sim\n",
        "      best_match_id = user_id\n",
        "      best_match_vector = user_vector\n",
        "      \n",
        "print(\"Best Match Euclidean Distance: {}, Best Match ID: {}\".format(best_match, best_match_id))"
      ],
      "metadata": {
        "id": "UDYoSYYqtO5h"
      },
      "execution_count": null,
      "outputs": []
    },
    {
      "cell_type": "code",
      "source": [
        "#추천리스트 뽑기(내가 보지 않았지만 유사 ID가 본 영화)\n",
        "recommend_lst = []\n",
        "for i, log in enumerate(zip(my_vector, best_match_vector)):\n",
        "  log1, log2 = log\n",
        "  if log1 < 1. and log2 > 0.:\n",
        "    recommend_lst.append(i)\n",
        "print(recommend_lst)"
      ],
      "metadata": {
        "id": "wtiYyr20Qtr2"
      },
      "execution_count": null,
      "outputs": []
    }
  ]
}